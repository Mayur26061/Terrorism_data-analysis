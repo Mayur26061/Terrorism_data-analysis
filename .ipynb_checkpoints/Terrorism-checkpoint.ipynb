{
 "cells": [
  {
   "cell_type": "code",
   "execution_count": 1,
   "id": "4857eeea",
   "metadata": {
    "collapsed": true
   },
   "outputs": [
    {
     "name": "stdout",
     "output_type": "stream",
     "text": [
      "['2017', '1', '2', 'Afghanistan', 'South Asia', 'Takhta Pul', '31.320556', '65.961111', 'Hostage Taking (Kidnapping)', '0.0', '0.0', 'Construction Workers', 'Taliban', 'Business', 'Firearms', '0.0']\n",
      "['2017', '1', '3', 'Sudan', 'Sub-Saharan Africa', 'Fantaga', '12.921007000000001', '24.318324', 'Armed Assault', '2.0', '0.0', 'Civilians: Haroun Yousif, Hamid Ibrahim', 'Unknown', 'Private Citizens & Property', 'Firearms', '2.0']\n",
      "['2017', '1', '1', 'Democratic Republic of the Congo', 'Sub-Saharan Africa', 'Saboko', '1.452372', '29.875162', 'Armed Assault', '7.0', '0.0', 'Village', 'Allied Democratic Forces (ADF)', 'Private Citizens & Property', 'Melee', '7.0']\n"
     ]
    }
   ],
   "source": [
    "# print 1st four roww\n",
    "import csv\n",
    "with open(\"year2017.csv\") as file:\n",
    "    fileda=csv.reader(file,skipinitialspace=True)\n",
    "    file_list=list(fileda)\n",
    "for i in range(1,4):\n",
    "    print(file_list[i])"
   ]
  },
  {
   "cell_type": "code",
   "execution_count": 2,
   "id": "4453ff44",
   "metadata": {},
   "outputs": [
    {
     "name": "stdout",
     "output_type": "stream",
     "text": [
      "Afghanistan\n",
      "Sudan\n",
      "Democratic Republic of the Congo\n",
      "Democratic Republic of the Congo\n",
      "Turkey\n",
      "Syria\n",
      "Pakistan\n",
      "Italy\n",
      "Turkey\n",
      "Turkey\n"
     ]
    }
   ],
   "source": [
    "# first 10country\n",
    "for i in range(1,11):\n",
    "    print(file_list[i][3])"
   ]
  },
  {
   "cell_type": "code",
   "execution_count": 4,
   "id": "d7fe8b3b",
   "metadata": {},
   "outputs": [
    {
     "name": "stdout",
     "output_type": "stream",
     "text": [
      "26445\n"
     ]
    }
   ],
   "source": [
    "# sum of killed\n",
    "killed=[]\n",
    "for i in file_list[1:]:\n",
    "    val=i[9]\n",
    "    if val!='':\n",
    "        killed.append(float(val))\n",
    "print(int(sum(killed)))"
   ]
  },
  {
   "cell_type": "code",
   "execution_count": 7,
   "id": "1fa1fe91",
   "metadata": {},
   "outputs": [
    {
     "name": "stdout",
     "output_type": "stream",
     "text": [
      "29280.0\n"
     ]
    }
   ],
   "source": [
    "# total number of casualties using explosive weapon type\n",
    "with open(\"year2017.csv\") as file:\n",
    "    file_obj=csv.DictReader(file,skipinitialspace=True)\n",
    "    sum=0\n",
    "    for i in file_obj:\n",
    "        if i['Weapon_type']=='Explosives':\n",
    "            val=i['casualities']\n",
    "            if val!='':\n",
    "                sum+=float(val)\n",
    "                \n",
    "    print(sum)"
   ]
  },
  {
   "cell_type": "code",
   "execution_count": 16,
   "id": "5bfdff4a",
   "metadata": {},
   "outputs": [],
   "source": [
    "# country vs killed\n",
    "with open(\"year2017.csv\") as fl:\n",
    "    data=csv.DictReader(fl,skipinitialspace=True)\n",
    "    dl=list(data)\n",
    "co_killed={}\n",
    "dl\n",
    "for row in dl:\n",
    "    ct=row['Country']\n",
    "    val=row['Killed']\n",
    "    if val!='':\n",
    "        val=int(float(val))\n",
    "    else:\n",
    "        val=0\n",
    "    if ct in co_killed:\n",
    "        co_killed[ct]+=val\n",
    "    else:\n",
    "        co_killed[ct]=val    "
   ]
  },
  {
   "cell_type": "code",
   "execution_count": 18,
   "id": "3b951f06",
   "metadata": {},
   "outputs": [
    {
     "data": {
      "text/plain": [
       "465"
      ]
     },
     "execution_count": 18,
     "metadata": {},
     "output_type": "execute_result"
    }
   ],
   "source": [
    "co_killed['India']"
   ]
  },
  {
   "cell_type": "code",
   "execution_count": 19,
   "id": "fb0bbdce",
   "metadata": {},
   "outputs": [],
   "source": [
    "# month vs killed\n",
    "mon_killed={}\n",
    "for row in dl:\n",
    "    ct=row['Month']\n",
    "    val=row['Killed']\n",
    "    if val!='':\n",
    "        val=int(float(val))\n",
    "    else:\n",
    "        val=0\n",
    "    if ct in mon_killed:\n",
    "        mon_killed[ct]+=val\n",
    "    else:\n",
    "        mon_killed[ct]=val\n"
   ]
  },
  {
   "cell_type": "code",
   "execution_count": 20,
   "id": "da9b94c8",
   "metadata": {},
   "outputs": [
    {
     "data": {
      "text/plain": [
       "{'1': 2275,\n",
       " '2': 2027,\n",
       " '3': 2463,\n",
       " '4': 2142,\n",
       " '5': 2936,\n",
       " '6': 2506,\n",
       " '7': 2228,\n",
       " '8': 2145,\n",
       " '9': 1764,\n",
       " '10': 2580,\n",
       " '11': 2014,\n",
       " '12': 1365}"
      ]
     },
     "execution_count": 20,
     "metadata": {},
     "output_type": "execute_result"
    }
   ],
   "source": [
    "mon_killed"
   ]
  },
  {
   "cell_type": "code",
   "execution_count": 22,
   "id": "0fbc38ec",
   "metadata": {},
   "outputs": [],
   "source": [
    "# country vs Casuatiles\n",
    "co_caul={}\n",
    "for row in dl:\n",
    "    ct=row['Country']\n",
    "    val=row['casualities']\n",
    "    if val!='':\n",
    "        val=int(float(val))\n",
    "    else:\n",
    "        val=0\n",
    "    if ct in co_caul:\n",
    "        co_caul[ct]+=val\n",
    "    else:\n",
    "        co_caul[ct]=val    "
   ]
  },
  {
   "cell_type": "code",
   "execution_count": 25,
   "id": "c47af271",
   "metadata": {},
   "outputs": [
    {
     "data": {
      "text/plain": [
       "1157"
      ]
     },
     "execution_count": 25,
     "metadata": {},
     "output_type": "execute_result"
    }
   ],
   "source": [
    "co_caul['India']"
   ]
  },
  {
   "cell_type": "code",
   "execution_count": null,
   "id": "4a18a873",
   "metadata": {},
   "outputs": [],
   "source": []
  }
 ],
 "metadata": {
  "kernelspec": {
   "display_name": "Python 3 (ipykernel)",
   "language": "python",
   "name": "python3"
  },
  "language_info": {
   "codemirror_mode": {
    "name": "ipython",
    "version": 3
   },
   "file_extension": ".py",
   "mimetype": "text/x-python",
   "name": "python",
   "nbconvert_exporter": "python",
   "pygments_lexer": "ipython3",
   "version": "3.10.7"
  }
 },
 "nbformat": 4,
 "nbformat_minor": 5
}
