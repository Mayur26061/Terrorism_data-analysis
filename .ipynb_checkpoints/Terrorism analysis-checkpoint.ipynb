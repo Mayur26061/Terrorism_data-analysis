{
 "cells": [
  {
   "cell_type": "code",
   "execution_count": 4,
   "id": "9afe3f42",
   "metadata": {},
   "outputs": [],
   "source": [
    "import pandas as pd\n",
    "import numpy as np\n",
    "import matplotlib.pyplot as plt"
   ]
  },
  {
   "cell_type": "code",
   "execution_count": 5,
   "id": "7e146751",
   "metadata": {},
   "outputs": [],
   "source": [
    "data=pd.read_csv(\"terrorismData.csv\")"
   ]
  },
  {
   "cell_type": "code",
   "execution_count": 3,
   "id": "ebdbb1c0",
   "metadata": {
    "scrolled": true
   },
   "outputs": [
    {
     "data": {
      "text/html": [
       "<div>\n",
       "<style scoped>\n",
       "    .dataframe tbody tr th:only-of-type {\n",
       "        vertical-align: middle;\n",
       "    }\n",
       "\n",
       "    .dataframe tbody tr th {\n",
       "        vertical-align: top;\n",
       "    }\n",
       "\n",
       "    .dataframe thead th {\n",
       "        text-align: right;\n",
       "    }\n",
       "</style>\n",
       "<table border=\"1\" class=\"dataframe\">\n",
       "  <thead>\n",
       "    <tr style=\"text-align: right;\">\n",
       "      <th></th>\n",
       "      <th>Year</th>\n",
       "      <th>Month</th>\n",
       "      <th>Day</th>\n",
       "      <th>Latitude</th>\n",
       "      <th>Longitude</th>\n",
       "      <th>Killed</th>\n",
       "      <th>Wounded</th>\n",
       "    </tr>\n",
       "  </thead>\n",
       "  <tbody>\n",
       "    <tr>\n",
       "      <th>count</th>\n",
       "      <td>181691.000000</td>\n",
       "      <td>181691.000000</td>\n",
       "      <td>181691.000000</td>\n",
       "      <td>177135.000000</td>\n",
       "      <td>1.771340e+05</td>\n",
       "      <td>171378.000000</td>\n",
       "      <td>165380.000000</td>\n",
       "    </tr>\n",
       "    <tr>\n",
       "      <th>mean</th>\n",
       "      <td>2002.638997</td>\n",
       "      <td>6.467277</td>\n",
       "      <td>15.505644</td>\n",
       "      <td>23.498343</td>\n",
       "      <td>-4.586957e+02</td>\n",
       "      <td>2.403272</td>\n",
       "      <td>3.167668</td>\n",
       "    </tr>\n",
       "    <tr>\n",
       "      <th>std</th>\n",
       "      <td>13.259430</td>\n",
       "      <td>3.388303</td>\n",
       "      <td>8.814045</td>\n",
       "      <td>18.569242</td>\n",
       "      <td>2.047790e+05</td>\n",
       "      <td>11.545741</td>\n",
       "      <td>35.949392</td>\n",
       "    </tr>\n",
       "    <tr>\n",
       "      <th>min</th>\n",
       "      <td>1970.000000</td>\n",
       "      <td>0.000000</td>\n",
       "      <td>0.000000</td>\n",
       "      <td>-53.154613</td>\n",
       "      <td>-8.618590e+07</td>\n",
       "      <td>0.000000</td>\n",
       "      <td>0.000000</td>\n",
       "    </tr>\n",
       "    <tr>\n",
       "      <th>25%</th>\n",
       "      <td>1991.000000</td>\n",
       "      <td>4.000000</td>\n",
       "      <td>8.000000</td>\n",
       "      <td>11.510046</td>\n",
       "      <td>4.545640e+00</td>\n",
       "      <td>0.000000</td>\n",
       "      <td>0.000000</td>\n",
       "    </tr>\n",
       "    <tr>\n",
       "      <th>50%</th>\n",
       "      <td>2009.000000</td>\n",
       "      <td>6.000000</td>\n",
       "      <td>15.000000</td>\n",
       "      <td>31.467463</td>\n",
       "      <td>4.324651e+01</td>\n",
       "      <td>0.000000</td>\n",
       "      <td>0.000000</td>\n",
       "    </tr>\n",
       "    <tr>\n",
       "      <th>75%</th>\n",
       "      <td>2014.000000</td>\n",
       "      <td>9.000000</td>\n",
       "      <td>23.000000</td>\n",
       "      <td>34.685087</td>\n",
       "      <td>6.871033e+01</td>\n",
       "      <td>2.000000</td>\n",
       "      <td>2.000000</td>\n",
       "    </tr>\n",
       "    <tr>\n",
       "      <th>max</th>\n",
       "      <td>2017.000000</td>\n",
       "      <td>12.000000</td>\n",
       "      <td>31.000000</td>\n",
       "      <td>74.633553</td>\n",
       "      <td>1.793667e+02</td>\n",
       "      <td>1570.000000</td>\n",
       "      <td>8191.000000</td>\n",
       "    </tr>\n",
       "  </tbody>\n",
       "</table>\n",
       "</div>"
      ],
      "text/plain": [
       "                Year          Month            Day       Latitude  \\\n",
       "count  181691.000000  181691.000000  181691.000000  177135.000000   \n",
       "mean     2002.638997       6.467277      15.505644      23.498343   \n",
       "std        13.259430       3.388303       8.814045      18.569242   \n",
       "min      1970.000000       0.000000       0.000000     -53.154613   \n",
       "25%      1991.000000       4.000000       8.000000      11.510046   \n",
       "50%      2009.000000       6.000000      15.000000      31.467463   \n",
       "75%      2014.000000       9.000000      23.000000      34.685087   \n",
       "max      2017.000000      12.000000      31.000000      74.633553   \n",
       "\n",
       "          Longitude         Killed        Wounded  \n",
       "count  1.771340e+05  171378.000000  165380.000000  \n",
       "mean  -4.586957e+02       2.403272       3.167668  \n",
       "std    2.047790e+05      11.545741      35.949392  \n",
       "min   -8.618590e+07       0.000000       0.000000  \n",
       "25%    4.545640e+00       0.000000       0.000000  \n",
       "50%    4.324651e+01       0.000000       0.000000  \n",
       "75%    6.871033e+01       2.000000       2.000000  \n",
       "max    1.793667e+02    1570.000000    8191.000000  "
      ]
     },
     "execution_count": 3,
     "metadata": {},
     "output_type": "execute_result"
    }
   ],
   "source": [
    "data.describe()"
   ]
  },
  {
   "cell_type": "code",
   "execution_count": 171,
   "id": "60855a48",
   "metadata": {},
   "outputs": [
    {
     "data": {
      "text/plain": [
       "0         Dominican Republic\n",
       "1                     Mexico\n",
       "2                Philippines\n",
       "3                     Greece\n",
       "4                      Japan\n",
       "                 ...        \n",
       "181686               Somalia\n",
       "181687                 Syria\n",
       "181688           Philippines\n",
       "181689                 India\n",
       "181690           Philippines\n",
       "Name: Country, Length: 181691, dtype: object"
      ]
     },
     "execution_count": 171,
     "metadata": {},
     "output_type": "execute_result"
    }
   ],
   "source": [
    "data.Country"
   ]
  },
  {
   "cell_type": "code",
   "execution_count": 183,
   "id": "9d7564d1",
   "metadata": {},
   "outputs": [],
   "source": [
    "# most deadly attack\n",
    "ans=data[data.Killed==data.Killed.max()]"
   ]
  },
  {
   "cell_type": "code",
   "execution_count": 210,
   "id": "5574e539",
   "metadata": {},
   "outputs": [],
   "source": [
    "ans.reset_index(drop=True,inplace=True)"
   ]
  },
  {
   "cell_type": "code",
   "execution_count": 217,
   "id": "30fe4988",
   "metadata": {},
   "outputs": [
    {
     "name": "stdout",
     "output_type": "stream",
     "text": [
      "1570.0 Iraq Islamic State of Iraq and the Levant (ISIL)\n"
     ]
    }
   ],
   "source": [
    "print(ans.loc[0,'Killed'],ans.loc[0,'Country'],ans.loc[0,'Group'])"
   ]
  },
  {
   "cell_type": "code",
   "execution_count": 206,
   "id": "b3e67f13",
   "metadata": {},
   "outputs": [
    {
     "data": {
      "text/plain": [
       "Index(['Year', 'Month', 'Day', 'Country', 'State', 'Region', 'City',\n",
       "       'Latitude', 'Longitude', 'AttackType', 'Killed', 'Wounded', 'Target',\n",
       "       'Summary', 'Group', 'Target_type', 'Weapon_type'],\n",
       "      dtype='object')"
      ]
     },
     "execution_count": 206,
     "metadata": {},
     "output_type": "execute_result"
    }
   ],
   "source": []
  },
  {
   "cell_type": "code",
   "execution_count": 207,
   "id": "682956af",
   "metadata": {},
   "outputs": [],
   "source": [
    "jk=data[data['State']==\"Jammu and Kashmir\"]"
   ]
  },
  {
   "cell_type": "code",
   "execution_count": 165,
   "id": "9d724aba",
   "metadata": {},
   "outputs": [
    {
     "data": {
      "text/plain": [
       "Index(['Year', 'Month', 'Day', 'Country', 'State', 'Region', 'City',\n",
       "       'Latitude', 'Longitude', 'AttackType', 'Killed', 'Wounded', 'Target',\n",
       "       'Summary', 'Group', 'Target_type', 'Weapon_type'],\n",
       "      dtype='object')"
      ]
     },
     "execution_count": 165,
     "metadata": {},
     "output_type": "execute_result"
    }
   ],
   "source": [
    "jk.columns"
   ]
  },
  {
   "cell_type": "code",
   "execution_count": 162,
   "id": "8f204784",
   "metadata": {
    "scrolled": true
   },
   "outputs": [
    {
     "data": {
      "text/html": [
       "<div>\n",
       "<style scoped>\n",
       "    .dataframe tbody tr th:only-of-type {\n",
       "        vertical-align: middle;\n",
       "    }\n",
       "\n",
       "    .dataframe tbody tr th {\n",
       "        vertical-align: top;\n",
       "    }\n",
       "\n",
       "    .dataframe thead th {\n",
       "        text-align: right;\n",
       "    }\n",
       "</style>\n",
       "<table border=\"1\" class=\"dataframe\">\n",
       "  <thead>\n",
       "    <tr style=\"text-align: right;\">\n",
       "      <th></th>\n",
       "      <th>Year</th>\n",
       "      <th>Month</th>\n",
       "      <th>Day</th>\n",
       "      <th>Latitude</th>\n",
       "      <th>Longitude</th>\n",
       "      <th>Killed</th>\n",
       "      <th>Wounded</th>\n",
       "    </tr>\n",
       "  </thead>\n",
       "  <tbody>\n",
       "    <tr>\n",
       "      <th>count</th>\n",
       "      <td>2454.000000</td>\n",
       "      <td>2454.000000</td>\n",
       "      <td>2454.000000</td>\n",
       "      <td>2454.000000</td>\n",
       "      <td>2454.000000</td>\n",
       "      <td>2427.000000</td>\n",
       "      <td>2370.000000</td>\n",
       "    </tr>\n",
       "    <tr>\n",
       "      <th>mean</th>\n",
       "      <td>2004.678484</td>\n",
       "      <td>6.567237</td>\n",
       "      <td>15.625917</td>\n",
       "      <td>33.870649</td>\n",
       "      <td>74.917442</td>\n",
       "      <td>1.680676</td>\n",
       "      <td>3.615612</td>\n",
       "    </tr>\n",
       "    <tr>\n",
       "      <th>std</th>\n",
       "      <td>9.140952</td>\n",
       "      <td>3.154301</td>\n",
       "      <td>8.803619</td>\n",
       "      <td>0.417383</td>\n",
       "      <td>0.552969</td>\n",
       "      <td>3.537779</td>\n",
       "      <td>8.354403</td>\n",
       "    </tr>\n",
       "    <tr>\n",
       "      <th>min</th>\n",
       "      <td>1984.000000</td>\n",
       "      <td>1.000000</td>\n",
       "      <td>0.000000</td>\n",
       "      <td>32.371698</td>\n",
       "      <td>73.860665</td>\n",
       "      <td>0.000000</td>\n",
       "      <td>0.000000</td>\n",
       "    </tr>\n",
       "    <tr>\n",
       "      <th>25%</th>\n",
       "      <td>1997.000000</td>\n",
       "      <td>4.000000</td>\n",
       "      <td>8.000000</td>\n",
       "      <td>33.732216</td>\n",
       "      <td>74.721870</td>\n",
       "      <td>0.000000</td>\n",
       "      <td>0.000000</td>\n",
       "    </tr>\n",
       "    <tr>\n",
       "      <th>50%</th>\n",
       "      <td>2004.000000</td>\n",
       "      <td>7.000000</td>\n",
       "      <td>15.500000</td>\n",
       "      <td>34.010531</td>\n",
       "      <td>74.789902</td>\n",
       "      <td>0.000000</td>\n",
       "      <td>0.000000</td>\n",
       "    </tr>\n",
       "    <tr>\n",
       "      <th>75%</th>\n",
       "      <td>2014.000000</td>\n",
       "      <td>9.000000</td>\n",
       "      <td>23.000000</td>\n",
       "      <td>34.083740</td>\n",
       "      <td>75.072066</td>\n",
       "      <td>2.000000</td>\n",
       "      <td>3.000000</td>\n",
       "    </tr>\n",
       "    <tr>\n",
       "      <th>max</th>\n",
       "      <td>2017.000000</td>\n",
       "      <td>12.000000</td>\n",
       "      <td>31.000000</td>\n",
       "      <td>34.655639</td>\n",
       "      <td>78.656086</td>\n",
       "      <td>35.000000</td>\n",
       "      <td>100.000000</td>\n",
       "    </tr>\n",
       "  </tbody>\n",
       "</table>\n",
       "</div>"
      ],
      "text/plain": [
       "              Year        Month          Day     Latitude    Longitude  \\\n",
       "count  2454.000000  2454.000000  2454.000000  2454.000000  2454.000000   \n",
       "mean   2004.678484     6.567237    15.625917    33.870649    74.917442   \n",
       "std       9.140952     3.154301     8.803619     0.417383     0.552969   \n",
       "min    1984.000000     1.000000     0.000000    32.371698    73.860665   \n",
       "25%    1997.000000     4.000000     8.000000    33.732216    74.721870   \n",
       "50%    2004.000000     7.000000    15.500000    34.010531    74.789902   \n",
       "75%    2014.000000     9.000000    23.000000    34.083740    75.072066   \n",
       "max    2017.000000    12.000000    31.000000    34.655639    78.656086   \n",
       "\n",
       "            Killed      Wounded  \n",
       "count  2427.000000  2370.000000  \n",
       "mean      1.680676     3.615612  \n",
       "std       3.537779     8.354403  \n",
       "min       0.000000     0.000000  \n",
       "25%       0.000000     0.000000  \n",
       "50%       0.000000     0.000000  \n",
       "75%       2.000000     3.000000  \n",
       "max      35.000000   100.000000  "
      ]
     },
     "execution_count": 162,
     "metadata": {},
     "output_type": "execute_result"
    }
   ],
   "source": [
    "jk.describe()"
   ]
  },
  {
   "cell_type": "markdown",
   "id": "5968b391",
   "metadata": {},
   "source": [
    "## Top in indian country with most attacks\n"
   ]
  },
  {
   "cell_type": "code",
   "execution_count": 6,
   "id": "5b79d199",
   "metadata": {},
   "outputs": [],
   "source": [
    "new=data.copy()"
   ]
  },
  {
   "cell_type": "code",
   "execution_count": 7,
   "id": "d620b77f",
   "metadata": {},
   "outputs": [],
   "source": [
    "ind=new[new['Country']=='India']"
   ]
  },
  {
   "cell_type": "code",
   "execution_count": 8,
   "id": "043558e9",
   "metadata": {},
   "outputs": [],
   "source": [
    "ind.reset_index(drop=True,inplace=True)"
   ]
  },
  {
   "cell_type": "code",
   "execution_count": 9,
   "id": "1c85c879",
   "metadata": {},
   "outputs": [],
   "source": [
    "tp=ind.State.value_counts()"
   ]
  },
  {
   "cell_type": "code",
   "execution_count": 10,
   "id": "4cf69110",
   "metadata": {},
   "outputs": [],
   "source": [
    "top_5=tp[:5]"
   ]
  },
  {
   "cell_type": "code",
   "execution_count": 11,
   "id": "ea4fc52d",
   "metadata": {},
   "outputs": [],
   "source": [
    "x=np.array(top_5.index)\n",
    "y=np.array(top_5.values)"
   ]
  },
  {
   "cell_type": "code",
   "execution_count": 12,
   "id": "a1b3089c",
   "metadata": {},
   "outputs": [
    {
     "data": {
      "image/png": "[encoded data removed]",
      "text/plain": [
       "<Figure size 640x480 with 1 Axes>"
      ]
     },
     "metadata": {},
     "output_type": "display_data"
    }
   ],
   "source": [
    "plt.bar(x,y,color=['red'],width=0.7)\n",
    "plt.xticks(rotation=30)\n",
    "plt.ylabel(\"No. of attacks\")\n",
    "plt.xlabel(\"Cities\")\n",
    "plt.title(\"Most attack in India\")\n",
    "plt.show()"
   ]
  },
  {
   "cell_type": "code",
   "execution_count": 13,
   "id": "d7c99ad5",
   "metadata": {},
   "outputs": [],
   "source": [
    "atk=ind.AttackType.value_counts()"
   ]
  },
  {
   "cell_type": "code",
   "execution_count": 14,
   "id": "0e58d6da",
   "metadata": {},
   "outputs": [],
   "source": [
    "atk=atk[:4]"
   ]
  },
  {
   "cell_type": "code",
   "execution_count": 15,
   "id": "33651894",
   "metadata": {},
   "outputs": [],
   "source": [
    "x=np.array(atk.index)\n",
    "y=np.array(atk.values)"
   ]
  },
  {
   "cell_type": "code",
   "execution_count": 28,
   "id": "962a11cf",
   "metadata": {},
   "outputs": [],
   "source": [
    "x[3]='Hostage'"
   ]
  },
  {
   "cell_type": "code",
   "execution_count": 31,
   "id": "fcabe610",
   "metadata": {},
   "outputs": [
    {
     "data": {
      "image/png": "[encoded data removed]",
      "text/plain": [
       "<Figure size 640x480 with 1 Axes>"
      ]
     },
     "metadata": {},
     "output_type": "display_data"
    }
   ],
   "source": [
    "plt.plot(x,y,'r--',marker='o',linewidth=1.1)\n",
    "plt.xlabel(\"Type of attack\")\n",
    "plt.ylabel(\"NO. of attack\")\n",
    "# plt.xticks(rotation=0)\n",
    "plt.show()"
   ]
  },
  {
   "cell_type": "code",
   "execution_count": null,
   "id": "b0073196",
   "metadata": {},
   "outputs": [],
   "source": [
    "\n"
   ]
  }
 ],
 "metadata": {
  "kernelspec": {
   "display_name": "Python 3 (ipykernel)",
   "language": "python",
   "name": "python3"
  },
  "language_info": {
   "codemirror_mode": {
    "name": "ipython",
    "version": 3
   },
   "file_extension": ".py",
   "mimetype": "text/x-python",
   "name": "python",
   "nbconvert_exporter": "python",
   "pygments_lexer": "ipython3",
   "version": "3.10.7"
  }
 },
 "nbformat": 4,
 "nbformat_minor": 5
}
