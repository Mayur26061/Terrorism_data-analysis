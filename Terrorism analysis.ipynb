{
 "cells": [
  {
   "cell_type": "code",
   "execution_count": 43,
   "id": "9afe3f42",
   "metadata": {},
   "outputs": [],
   "source": [
    "import pandas as pd\n",
    "import numpy as np\n",
    "import matplotlib.pyplot as plt"
   ]
  },
  {
   "cell_type": "code",
   "execution_count": 3,
   "id": "7e146751",
   "metadata": {},
   "outputs": [],
   "source": [
    "data=pd.read_csv(\"terrorismData.csv\")"
   ]
  },
  {
   "cell_type": "code",
   "execution_count": 73,
   "id": "ebdbb1c0",
   "metadata": {},
   "outputs": [
    {
     "data": {
      "text/html": [
       "<div>\n",
       "<style scoped>\n",
       "    .dataframe tbody tr th:only-of-type {\n",
       "        vertical-align: middle;\n",
       "    }\n",
       "\n",
       "    .dataframe tbody tr th {\n",
       "        vertical-align: top;\n",
       "    }\n",
       "\n",
       "    .dataframe thead th {\n",
       "        text-align: right;\n",
       "    }\n",
       "</style>\n",
       "<table border=\"1\" class=\"dataframe\">\n",
       "  <thead>\n",
       "    <tr style=\"text-align: right;\">\n",
       "      <th></th>\n",
       "      <th>Year</th>\n",
       "      <th>Month</th>\n",
       "      <th>Day</th>\n",
       "      <th>Country</th>\n",
       "      <th>State</th>\n",
       "      <th>Region</th>\n",
       "      <th>City</th>\n",
       "      <th>Latitude</th>\n",
       "      <th>Longitude</th>\n",
       "      <th>AttackType</th>\n",
       "      <th>Killed</th>\n",
       "      <th>Wounded</th>\n",
       "      <th>Target</th>\n",
       "      <th>Summary</th>\n",
       "      <th>Group</th>\n",
       "      <th>Target_type</th>\n",
       "      <th>Weapon_type</th>\n",
       "    </tr>\n",
       "  </thead>\n",
       "  <tbody>\n",
       "    <tr>\n",
       "      <th>0</th>\n",
       "      <td>1970</td>\n",
       "      <td>7</td>\n",
       "      <td>2</td>\n",
       "      <td>Dominican Republic</td>\n",
       "      <td>NaN</td>\n",
       "      <td>Central America &amp; Caribbean</td>\n",
       "      <td>Santo Domingo</td>\n",
       "      <td>18.456792</td>\n",
       "      <td>-69.951164</td>\n",
       "      <td>Assassination</td>\n",
       "      <td>1.0</td>\n",
       "      <td>0.0</td>\n",
       "      <td>Julio Guzman</td>\n",
       "      <td>NaN</td>\n",
       "      <td>MANO-D</td>\n",
       "      <td>Private Citizens &amp; Property</td>\n",
       "      <td>Unknown</td>\n",
       "    </tr>\n",
       "    <tr>\n",
       "      <th>1</th>\n",
       "      <td>1970</td>\n",
       "      <td>0</td>\n",
       "      <td>0</td>\n",
       "      <td>Mexico</td>\n",
       "      <td>Federal</td>\n",
       "      <td>North America</td>\n",
       "      <td>Mexico city</td>\n",
       "      <td>19.371887</td>\n",
       "      <td>-99.086624</td>\n",
       "      <td>Hostage Taking (Kidnapping)</td>\n",
       "      <td>0.0</td>\n",
       "      <td>0.0</td>\n",
       "      <td>Nadine Chaval, daughter</td>\n",
       "      <td>NaN</td>\n",
       "      <td>23rd of September Communist League</td>\n",
       "      <td>Government (Diplomatic)</td>\n",
       "      <td>Unknown</td>\n",
       "    </tr>\n",
       "    <tr>\n",
       "      <th>2</th>\n",
       "      <td>1970</td>\n",
       "      <td>1</td>\n",
       "      <td>0</td>\n",
       "      <td>Philippines</td>\n",
       "      <td>Tarlac</td>\n",
       "      <td>Southeast Asia</td>\n",
       "      <td>Unknown</td>\n",
       "      <td>15.478598</td>\n",
       "      <td>120.599741</td>\n",
       "      <td>Assassination</td>\n",
       "      <td>1.0</td>\n",
       "      <td>0.0</td>\n",
       "      <td>Employee</td>\n",
       "      <td>NaN</td>\n",
       "      <td>Unknown</td>\n",
       "      <td>Journalists &amp; Media</td>\n",
       "      <td>Unknown</td>\n",
       "    </tr>\n",
       "    <tr>\n",
       "      <th>3</th>\n",
       "      <td>1970</td>\n",
       "      <td>1</td>\n",
       "      <td>0</td>\n",
       "      <td>Greece</td>\n",
       "      <td>Attica</td>\n",
       "      <td>Western Europe</td>\n",
       "      <td>Athens</td>\n",
       "      <td>37.997490</td>\n",
       "      <td>23.762728</td>\n",
       "      <td>Bombing/Explosion</td>\n",
       "      <td>NaN</td>\n",
       "      <td>NaN</td>\n",
       "      <td>U.S. Embassy</td>\n",
       "      <td>NaN</td>\n",
       "      <td>Unknown</td>\n",
       "      <td>Government (Diplomatic)</td>\n",
       "      <td>Explosives</td>\n",
       "    </tr>\n",
       "    <tr>\n",
       "      <th>4</th>\n",
       "      <td>1970</td>\n",
       "      <td>1</td>\n",
       "      <td>0</td>\n",
       "      <td>Japan</td>\n",
       "      <td>Fukouka</td>\n",
       "      <td>East Asia</td>\n",
       "      <td>Fukouka</td>\n",
       "      <td>33.580412</td>\n",
       "      <td>130.396361</td>\n",
       "      <td>Facility/Infrastructure Attack</td>\n",
       "      <td>NaN</td>\n",
       "      <td>NaN</td>\n",
       "      <td>U.S. Consulate</td>\n",
       "      <td>NaN</td>\n",
       "      <td>Unknown</td>\n",
       "      <td>Government (Diplomatic)</td>\n",
       "      <td>Incendiary</td>\n",
       "    </tr>\n",
       "    <tr>\n",
       "      <th>...</th>\n",
       "      <td>...</td>\n",
       "      <td>...</td>\n",
       "      <td>...</td>\n",
       "      <td>...</td>\n",
       "      <td>...</td>\n",
       "      <td>...</td>\n",
       "      <td>...</td>\n",
       "      <td>...</td>\n",
       "      <td>...</td>\n",
       "      <td>...</td>\n",
       "      <td>...</td>\n",
       "      <td>...</td>\n",
       "      <td>...</td>\n",
       "      <td>...</td>\n",
       "      <td>...</td>\n",
       "      <td>...</td>\n",
       "      <td>...</td>\n",
       "    </tr>\n",
       "    <tr>\n",
       "      <th>181686</th>\n",
       "      <td>2017</td>\n",
       "      <td>12</td>\n",
       "      <td>31</td>\n",
       "      <td>Somalia</td>\n",
       "      <td>Middle Shebelle</td>\n",
       "      <td>Sub-Saharan Africa</td>\n",
       "      <td>Ceelka Geelow</td>\n",
       "      <td>2.359673</td>\n",
       "      <td>45.385034</td>\n",
       "      <td>Armed Assault</td>\n",
       "      <td>1.0</td>\n",
       "      <td>2.0</td>\n",
       "      <td>Checkpoint</td>\n",
       "      <td>12/31/2017: Assailants opened fire on a Somali...</td>\n",
       "      <td>Al-Shabaab</td>\n",
       "      <td>Military</td>\n",
       "      <td>Firearms</td>\n",
       "    </tr>\n",
       "    <tr>\n",
       "      <th>181687</th>\n",
       "      <td>2017</td>\n",
       "      <td>12</td>\n",
       "      <td>31</td>\n",
       "      <td>Syria</td>\n",
       "      <td>Lattakia</td>\n",
       "      <td>Middle East &amp; North Africa</td>\n",
       "      <td>Jableh</td>\n",
       "      <td>35.407278</td>\n",
       "      <td>35.942679</td>\n",
       "      <td>Bombing/Explosion</td>\n",
       "      <td>2.0</td>\n",
       "      <td>7.0</td>\n",
       "      <td>Hmeymim Air Base</td>\n",
       "      <td>12/31/2017: Assailants launched mortars at the...</td>\n",
       "      <td>Muslim extremists</td>\n",
       "      <td>Military</td>\n",
       "      <td>Explosives</td>\n",
       "    </tr>\n",
       "    <tr>\n",
       "      <th>181688</th>\n",
       "      <td>2017</td>\n",
       "      <td>12</td>\n",
       "      <td>31</td>\n",
       "      <td>Philippines</td>\n",
       "      <td>Maguindanao</td>\n",
       "      <td>Southeast Asia</td>\n",
       "      <td>Kubentog</td>\n",
       "      <td>6.900742</td>\n",
       "      <td>124.437908</td>\n",
       "      <td>Facility/Infrastructure Attack</td>\n",
       "      <td>0.0</td>\n",
       "      <td>0.0</td>\n",
       "      <td>Houses</td>\n",
       "      <td>12/31/2017: Assailants set fire to houses in K...</td>\n",
       "      <td>Bangsamoro Islamic Freedom Movement (BIFM)</td>\n",
       "      <td>Private Citizens &amp; Property</td>\n",
       "      <td>Incendiary</td>\n",
       "    </tr>\n",
       "    <tr>\n",
       "      <th>181689</th>\n",
       "      <td>2017</td>\n",
       "      <td>12</td>\n",
       "      <td>31</td>\n",
       "      <td>India</td>\n",
       "      <td>Manipur</td>\n",
       "      <td>South Asia</td>\n",
       "      <td>Imphal</td>\n",
       "      <td>24.798346</td>\n",
       "      <td>93.940430</td>\n",
       "      <td>Bombing/Explosion</td>\n",
       "      <td>0.0</td>\n",
       "      <td>0.0</td>\n",
       "      <td>Office</td>\n",
       "      <td>12/31/2017: Assailants threw a grenade at a Fo...</td>\n",
       "      <td>Unknown</td>\n",
       "      <td>Government (General)</td>\n",
       "      <td>Explosives</td>\n",
       "    </tr>\n",
       "    <tr>\n",
       "      <th>181690</th>\n",
       "      <td>2017</td>\n",
       "      <td>12</td>\n",
       "      <td>31</td>\n",
       "      <td>Philippines</td>\n",
       "      <td>Maguindanao</td>\n",
       "      <td>Southeast Asia</td>\n",
       "      <td>Cotabato City</td>\n",
       "      <td>7.209594</td>\n",
       "      <td>124.241966</td>\n",
       "      <td>Bombing/Explosion</td>\n",
       "      <td>0.0</td>\n",
       "      <td>0.0</td>\n",
       "      <td>Unknown</td>\n",
       "      <td>12/31/2017: An explosive device was discovered...</td>\n",
       "      <td>Unknown</td>\n",
       "      <td>Unknown</td>\n",
       "      <td>Explosives</td>\n",
       "    </tr>\n",
       "  </tbody>\n",
       "</table>\n",
       "<p>181691 rows × 17 columns</p>\n",
       "</div>"
      ],
      "text/plain": [
       "        Year  Month  Day             Country            State  \\\n",
       "0       1970      7    2  Dominican Republic              NaN   \n",
       "1       1970      0    0              Mexico          Federal   \n",
       "2       1970      1    0         Philippines           Tarlac   \n",
       "3       1970      1    0              Greece           Attica   \n",
       "4       1970      1    0               Japan          Fukouka   \n",
       "...      ...    ...  ...                 ...              ...   \n",
       "181686  2017     12   31             Somalia  Middle Shebelle   \n",
       "181687  2017     12   31               Syria         Lattakia   \n",
       "181688  2017     12   31         Philippines      Maguindanao   \n",
       "181689  2017     12   31               India          Manipur   \n",
       "181690  2017     12   31         Philippines      Maguindanao   \n",
       "\n",
       "                             Region           City   Latitude   Longitude  \\\n",
       "0       Central America & Caribbean  Santo Domingo  18.456792  -69.951164   \n",
       "1                     North America    Mexico city  19.371887  -99.086624   \n",
       "2                    Southeast Asia        Unknown  15.478598  120.599741   \n",
       "3                    Western Europe         Athens  37.997490   23.762728   \n",
       "4                         East Asia        Fukouka  33.580412  130.396361   \n",
       "...                             ...            ...        ...         ...   \n",
       "181686           Sub-Saharan Africa  Ceelka Geelow   2.359673   45.385034   \n",
       "181687   Middle East & North Africa         Jableh  35.407278   35.942679   \n",
       "181688               Southeast Asia       Kubentog   6.900742  124.437908   \n",
       "181689                   South Asia         Imphal  24.798346   93.940430   \n",
       "181690               Southeast Asia  Cotabato City   7.209594  124.241966   \n",
       "\n",
       "                            AttackType  Killed  Wounded  \\\n",
       "0                        Assassination     1.0      0.0   \n",
       "1          Hostage Taking (Kidnapping)     0.0      0.0   \n",
       "2                        Assassination     1.0      0.0   \n",
       "3                    Bombing/Explosion     NaN      NaN   \n",
       "4       Facility/Infrastructure Attack     NaN      NaN   \n",
       "...                                ...     ...      ...   \n",
       "181686                   Armed Assault     1.0      2.0   \n",
       "181687               Bombing/Explosion     2.0      7.0   \n",
       "181688  Facility/Infrastructure Attack     0.0      0.0   \n",
       "181689               Bombing/Explosion     0.0      0.0   \n",
       "181690               Bombing/Explosion     0.0      0.0   \n",
       "\n",
       "                         Target  \\\n",
       "0                  Julio Guzman   \n",
       "1       Nadine Chaval, daughter   \n",
       "2                      Employee   \n",
       "3                  U.S. Embassy   \n",
       "4                U.S. Consulate   \n",
       "...                         ...   \n",
       "181686               Checkpoint   \n",
       "181687         Hmeymim Air Base   \n",
       "181688                   Houses   \n",
       "181689                   Office   \n",
       "181690                  Unknown   \n",
       "\n",
       "                                                  Summary  \\\n",
       "0                                                     NaN   \n",
       "1                                                     NaN   \n",
       "2                                                     NaN   \n",
       "3                                                     NaN   \n",
       "4                                                     NaN   \n",
       "...                                                   ...   \n",
       "181686  12/31/2017: Assailants opened fire on a Somali...   \n",
       "181687  12/31/2017: Assailants launched mortars at the...   \n",
       "181688  12/31/2017: Assailants set fire to houses in K...   \n",
       "181689  12/31/2017: Assailants threw a grenade at a Fo...   \n",
       "181690  12/31/2017: An explosive device was discovered...   \n",
       "\n",
       "                                             Group  \\\n",
       "0                                           MANO-D   \n",
       "1               23rd of September Communist League   \n",
       "2                                          Unknown   \n",
       "3                                          Unknown   \n",
       "4                                          Unknown   \n",
       "...                                            ...   \n",
       "181686                                  Al-Shabaab   \n",
       "181687                           Muslim extremists   \n",
       "181688  Bangsamoro Islamic Freedom Movement (BIFM)   \n",
       "181689                                     Unknown   \n",
       "181690                                     Unknown   \n",
       "\n",
       "                        Target_type Weapon_type  \n",
       "0       Private Citizens & Property     Unknown  \n",
       "1           Government (Diplomatic)     Unknown  \n",
       "2               Journalists & Media     Unknown  \n",
       "3           Government (Diplomatic)  Explosives  \n",
       "4           Government (Diplomatic)  Incendiary  \n",
       "...                             ...         ...  \n",
       "181686                     Military    Firearms  \n",
       "181687                     Military  Explosives  \n",
       "181688  Private Citizens & Property  Incendiary  \n",
       "181689         Government (General)  Explosives  \n",
       "181690                      Unknown  Explosives  \n",
       "\n",
       "[181691 rows x 17 columns]"
      ]
     },
     "execution_count": 73,
     "metadata": {},
     "output_type": "execute_result"
    }
   ],
   "source": [
    "data"
   ]
  },
  {
   "cell_type": "code",
   "execution_count": 5,
   "id": "60855a48",
   "metadata": {},
   "outputs": [
    {
     "data": {
      "text/plain": [
       "0         Dominican Republic\n",
       "1                     Mexico\n",
       "2                Philippines\n",
       "3                     Greece\n",
       "4                      Japan\n",
       "                 ...        \n",
       "181686               Somalia\n",
       "181687                 Syria\n",
       "181688           Philippines\n",
       "181689                 India\n",
       "181690           Philippines\n",
       "Name: Country, Length: 181691, dtype: object"
      ]
     },
     "execution_count": 5,
     "metadata": {},
     "output_type": "execute_result"
    }
   ],
   "source": [
    "data.Country"
   ]
  },
  {
   "cell_type": "markdown",
   "id": "6a31df04",
   "metadata": {},
   "source": [
    "# most deadly attack in history"
   ]
  },
  {
   "cell_type": "code",
   "execution_count": null,
   "id": "b047b53a",
   "metadata": {},
   "outputs": [],
   "source": [
    "\n",
    "ans=data[data.Killed==data.Killed.max()]"
   ]
  },
  {
   "cell_type": "code",
   "execution_count": 7,
   "id": "5574e539",
   "metadata": {},
   "outputs": [],
   "source": [
    "ans.reset_index(drop=True,inplace=True)"
   ]
  },
  {
   "cell_type": "code",
   "execution_count": 16,
   "id": "30fe4988",
   "metadata": {},
   "outputs": [
    {
     "name": "stdout",
     "output_type": "stream",
     "text": [
      "Killed: 1570.0\n",
      "Country: Iraq\n",
      "Terrorist group: Islamic State of Iraq and the Levant (ISIL)\n"
     ]
    }
   ],
   "source": [
    "print(\"Killed:\",ans.loc[0,'Killed'])\n",
    "print(\"Country:\",ans.loc[0,'Country'])\n",
    "print(\"Terrorist group:\",ans.loc[0,'Group'])"
   ]
  },
  {
   "cell_type": "markdown",
   "id": "a3d9ab26",
   "metadata": {},
   "source": [
    "# Attack in Jammu and Kasmir compare to other states in India"
   ]
  },
  {
   "cell_type": "code",
   "execution_count": 34,
   "id": "682956af",
   "metadata": {},
   "outputs": [],
   "source": [
    "jk=data[data['State']==\"Jammu and Kashmir\"]\n",
    "ot=data[(data['State']!=\"Jammu and Kashmir\")&(data['Country']=='India')]"
   ]
  },
  {
   "cell_type": "code",
   "execution_count": 36,
   "id": "9d724aba",
   "metadata": {},
   "outputs": [],
   "source": [
    "jk.reset_index(drop=True,inplace=True)\n",
    "ot.reset_index(drop=True,inplace=True)"
   ]
  },
  {
   "cell_type": "code",
   "execution_count": 44,
   "id": "8f204784",
   "metadata": {
    "scrolled": true
   },
   "outputs": [],
   "source": [
    "x=[jk.size,ot.size]\n",
    "lab=['Jammu and Kasmir',\"Other states\"]"
   ]
  },
  {
   "cell_type": "code",
   "execution_count": 72,
   "id": "05f69810",
   "metadata": {},
   "outputs": [
    {
     "data": {
      "image/png": "[encoded data removed]",
      "text/plain": [
       "<Figure size 640x480 with 1 Axes>"
      ]
     },
     "metadata": {},
     "output_type": "display_data"
    }
   ],
   "source": [
    "plt.pie(x,labels=lab,autopct=\"%.2f%%\",explode=[0.1,0],startangle=130)\n",
    "plt.title(\"pie Chart\")\n",
    "plt.show()"
   ]
  },
  {
   "cell_type": "code",
   "execution_count": null,
   "id": "93b4d00f",
   "metadata": {},
   "outputs": [],
   "source": []
  },
  {
   "cell_type": "code",
   "execution_count": null,
   "id": "970a8d12",
   "metadata": {},
   "outputs": [],
   "source": []
  },
  {
   "cell_type": "markdown",
   "id": "5968b391",
   "metadata": {},
   "source": [
    "## Top in indian country with most attacks\n"
   ]
  },
  {
   "cell_type": "code",
   "execution_count": 6,
   "id": "5b79d199",
   "metadata": {},
   "outputs": [],
   "source": [
    "new=data.copy()"
   ]
  },
  {
   "cell_type": "code",
   "execution_count": 7,
   "id": "d620b77f",
   "metadata": {},
   "outputs": [],
   "source": [
    "ind=new[new['Country']=='India']"
   ]
  },
  {
   "cell_type": "code",
   "execution_count": 8,
   "id": "043558e9",
   "metadata": {},
   "outputs": [],
   "source": [
    "ind.reset_index(drop=True,inplace=True)"
   ]
  },
  {
   "cell_type": "code",
   "execution_count": 9,
   "id": "1c85c879",
   "metadata": {},
   "outputs": [],
   "source": [
    "tp=ind.State.value_counts()"
   ]
  },
  {
   "cell_type": "code",
   "execution_count": 10,
   "id": "4cf69110",
   "metadata": {},
   "outputs": [],
   "source": [
    "top_5=tp[:5]"
   ]
  },
  {
   "cell_type": "code",
   "execution_count": 11,
   "id": "ea4fc52d",
   "metadata": {},
   "outputs": [],
   "source": [
    "x=np.array(top_5.index)\n",
    "y=np.array(top_5.values)"
   ]
  },
  {
   "cell_type": "code",
   "execution_count": 12,
   "id": "a1b3089c",
   "metadata": {},
   "outputs": [
    {
     "data": {
      "image/png": "[encoded data removed]",
      "text/plain": [
       "<Figure size 640x480 with 1 Axes>"
      ]
     },
     "metadata": {},
     "output_type": "display_data"
    }
   ],
   "source": [
    "plt.bar(x,y,color=['red'],width=0.7)\n",
    "plt.xticks(rotation=30)\n",
    "plt.ylabel(\"No. of attacks\")\n",
    "plt.xlabel(\"Cities\")\n",
    "plt.title(\"Most attack in India\")\n",
    "plt.show()"
   ]
  },
  {
   "cell_type": "code",
   "execution_count": null,
   "id": "37e191b7",
   "metadata": {},
   "outputs": [],
   "source": []
  },
  {
   "cell_type": "markdown",
   "id": "f1f0f59e",
   "metadata": {},
   "source": [
    "# Most type of attack "
   ]
  },
  {
   "cell_type": "code",
   "execution_count": 13,
   "id": "d7c99ad5",
   "metadata": {},
   "outputs": [],
   "source": [
    "atk=ind.AttackType.value_counts()"
   ]
  },
  {
   "cell_type": "code",
   "execution_count": 14,
   "id": "0e58d6da",
   "metadata": {},
   "outputs": [],
   "source": [
    "atk=atk[:4]"
   ]
  },
  {
   "cell_type": "code",
   "execution_count": 15,
   "id": "33651894",
   "metadata": {},
   "outputs": [],
   "source": [
    "x=np.array(atk.index)\n",
    "y=np.array(atk.values)"
   ]
  },
  {
   "cell_type": "code",
   "execution_count": 28,
   "id": "962a11cf",
   "metadata": {},
   "outputs": [],
   "source": [
    "x[3]='Hostage'"
   ]
  },
  {
   "cell_type": "code",
   "execution_count": 31,
   "id": "fcabe610",
   "metadata": {},
   "outputs": [
    {
     "data": {
      "image/png": "[encoded data removed]",
      "text/plain": [
       "<Figure size 640x480 with 1 Axes>"
      ]
     },
     "metadata": {},
     "output_type": "display_data"
    }
   ],
   "source": [
    "plt.plot(x,y,'r--',marker='o',linewidth=1.1)\n",
    "plt.xlabel(\"Type of attack\")\n",
    "plt.ylabel(\"NO. of attack\")\n",
    "# plt.xticks(rotation=0)\n",
    "plt.show()"
   ]
  },
  {
   "cell_type": "code",
   "execution_count": null,
   "id": "b0073196",
   "metadata": {},
   "outputs": [],
   "source": [
    "\n"
   ]
  }
 ],
 "metadata": {
  "kernelspec": {
   "display_name": "Python 3 (ipykernel)",
   "language": "python",
   "name": "python3"
  },
  "language_info": {
   "codemirror_mode": {
    "name": "ipython",
    "version": 3
   },
   "file_extension": ".py",
   "mimetype": "text/x-python",
   "name": "python",
   "nbconvert_exporter": "python",
   "pygments_lexer": "ipython3",
   "version": "3.10.7"
  }
 },
 "nbformat": 4,
 "nbformat_minor": 5
}
